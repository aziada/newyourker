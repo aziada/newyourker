{
 "cells": [
  {
   "cell_type": "code",
   "execution_count": 1,
   "metadata": {},
   "outputs": [],
   "source": [
    "from pyspark import *\n",
    "from pyspark.sql import *\n",
    "from pyspark.sql.functions import *\n",
    "from pyspark.sql.types import *\n",
    "import socket, requests, json"
   ]
  },
  {
   "cell_type": "code",
   "execution_count": 2,
   "metadata": {},
   "outputs": [],
   "source": [
    "# Spark Context configuration\n",
    "sc = SparkContext(\"spark://fobidatalake02:7077\", \"NY\")\n",
    "spark = SparkSession(sc)"
   ]
  },
  {
   "cell_type": "code",
   "execution_count": 3,
   "metadata": {},
   "outputs": [],
   "source": [
    "schema=StructType([StructField(\"address\",StringType(),True),\n",
    "StructField(\"attributes\",StructType(),True),\n",
    "StructField(\"business_id\",StringType(),True),\n",
    "StructField(\"city\",StringType(),True),\n",
    "StructField(\"hours\",StructType(),True),\n",
    "StructField(\"is_open\",DoubleType(),True),\n",
    "StructField(\"latitude\",DoubleType(),True),\n",
    "StructField(\"longitude\",DoubleType(),True),\n",
    "StructField(\"postal_code\",StringType(),True),\n",
    "StructField(\"review_count\",LongType(),True),\n",
    "StructField(\"stars\",DoubleType(),True),\n",
    "StructField(\"state\",StringType(),True)])"
   ]
  },
  {
   "cell_type": "code",
   "execution_count": 4,
   "metadata": {},
   "outputs": [],
   "source": [
    "biz = spark.read.json('file:///home/hadoopsa/data/biz.json', schema)\n",
    "tip = spark.read.json('file:///home/hadoopsa/data/tip.json')\n",
    "rvw = spark.read.json('file:///home/hadoopsa/data/review.json')\n",
    "chk = spark.read.json('file:///home/hadoopsa/data/checkin.json')\n",
    "usr = spark.read.json('file:///home/hadoopsa/data/user.json')"
   ]
  },
  {
   "cell_type": "code",
   "execution_count": 5,
   "metadata": {},
   "outputs": [],
   "source": [
    "rvw = rvw.withColumn(\"DateTime_r\", to_timestamp(\"date\", \"yyyy-MM-dd HH:mm:ss\"))\n",
    "chk = chk.withColumn(\"DateTime_c\", to_timestamp(\"date\", \"yyyy-MM-dd HH:mm:ss\")).withColumnRenamed('business_id', 'business_id_chk')\n",
    "rvwchk = rvw.join(chk, rvw.business_id == chk.business_id_chk, how ='left')"
   ]
  },
  {
   "cell_type": "code",
   "execution_count": 8,
   "metadata": {},
   "outputs": [],
   "source": [
    "agg = rvwchk.groupBy(\"business_id\", window(col(\"DateTime_r\"), \"168 hours\").alias(\"Weekly\")).agg(sum(\"stars\").alias(\"stars\"), count(\"business_id_chk\").alias(\"checkins\"))"
   ]
  },
  {
   "cell_type": "code",
   "execution_count": 9,
   "metadata": {},
   "outputs": [
    {
     "name": "stdout",
     "output_type": "stream",
     "text": [
      "+----------------------+------------------------------------------+-----+--------+\n",
      "|business_id           |Weekly                                    |stars|checkins|\n",
      "+----------------------+------------------------------------------+-----+--------+\n",
      "|YZs1gNSh_sN8JmN_nrpxeA|[2019-06-27 02:00:00, 2019-07-04 02:00:00]|143.0|30      |\n",
      "|bZiIIUcpgxh8mpKMDhdqbA|[2013-04-25 02:00:00, 2013-05-02 02:00:00]|137.0|31      |\n",
      "|YZs1gNSh_sN8JmN_nrpxeA|[2019-08-15 02:00:00, 2019-08-22 02:00:00]|135.0|28      |\n",
      "|YZs1gNSh_sN8JmN_nrpxeA|[2019-09-12 02:00:00, 2019-09-19 02:00:00]|134.0|28      |\n",
      "|V6OToDLIwUllf1MbgWw-9w|[2017-11-02 01:00:00, 2017-11-09 01:00:00]|131.0|28      |\n",
      "|bZiIIUcpgxh8mpKMDhdqbA|[2013-06-13 02:00:00, 2013-06-20 02:00:00]|122.0|29      |\n",
      "|YZs1gNSh_sN8JmN_nrpxeA|[2019-09-26 02:00:00, 2019-10-03 02:00:00]|119.0|25      |\n",
      "|bZiIIUcpgxh8mpKMDhdqbA|[2013-07-18 02:00:00, 2013-07-25 02:00:00]|119.0|27      |\n",
      "|YZs1gNSh_sN8JmN_nrpxeA|[2019-05-23 02:00:00, 2019-05-30 02:00:00]|117.0|26      |\n",
      "|YZs1gNSh_sN8JmN_nrpxeA|[2018-10-25 02:00:00, 2018-11-01 01:00:00]|117.0|26      |\n",
      "|bZiIIUcpgxh8mpKMDhdqbA|[2013-08-15 02:00:00, 2013-08-22 02:00:00]|115.0|28      |\n",
      "|YZs1gNSh_sN8JmN_nrpxeA|[2018-06-28 02:00:00, 2018-07-05 02:00:00]|114.0|24      |\n",
      "|bZiIIUcpgxh8mpKMDhdqbA|[2014-02-06 01:00:00, 2014-02-13 01:00:00]|113.0|26      |\n",
      "|H_RM2u1WWGU1HkKZrYq2Ow|[2016-06-16 02:00:00, 2016-06-23 02:00:00]|113.0|27      |\n",
      "|YZs1gNSh_sN8JmN_nrpxeA|[2020-02-13 01:00:00, 2020-02-20 01:00:00]|111.0|24      |\n",
      "|YZs1gNSh_sN8JmN_nrpxeA|[2019-07-11 02:00:00, 2019-07-18 02:00:00]|110.0|24      |\n",
      "|bZiIIUcpgxh8mpKMDhdqbA|[2014-05-08 02:00:00, 2014-05-15 02:00:00]|110.0|28      |\n",
      "|YZs1gNSh_sN8JmN_nrpxeA|[2019-05-02 02:00:00, 2019-05-09 02:00:00]|108.0|23      |\n",
      "|bZiIIUcpgxh8mpKMDhdqbA|[2013-05-09 02:00:00, 2013-05-16 02:00:00]|108.0|25      |\n",
      "|bZiIIUcpgxh8mpKMDhdqbA|[2013-10-10 02:00:00, 2013-10-17 02:00:00]|107.0|24      |\n",
      "+----------------------+------------------------------------------+-----+--------+\n",
      "only showing top 20 rows\n",
      "\n"
     ]
    }
   ],
   "source": [
    "agg.orderBy('stars', ascending=False).show(20, False)"
   ]
  }
 ],
 "metadata": {
  "kernelspec": {
   "display_name": "Python 3",
   "language": "python",
   "name": "python3"
  },
  "language_info": {
   "codemirror_mode": {
    "name": "ipython",
    "version": 3
   },
   "file_extension": ".py",
   "mimetype": "text/x-python",
   "name": "python",
   "nbconvert_exporter": "python",
   "pygments_lexer": "ipython3",
   "version": "3.6.9"
  }
 },
 "nbformat": 4,
 "nbformat_minor": 4
}
